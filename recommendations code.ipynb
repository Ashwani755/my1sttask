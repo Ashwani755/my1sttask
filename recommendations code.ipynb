{
 "cells": [
  {
   "cell_type": "markdown",
   "id": "0faab4e5",
   "metadata": {},
   "source": [
    "# Step 0: Load Packages and Libraries"
   ]
  },
  {
   "cell_type": "code",
   "execution_count": 41,
   "id": "ec40a842",
   "metadata": {},
   "outputs": [],
   "source": [
    "import pandas as pd\n",
    "import numpy as np\n",
    "import matplotlib.pyplot as plt\n",
    "import seaborn as sns\n",
    "\n",
    "from sklearn.metrics.pairwise import cosine_similarity\n",
    "from sklearn.feature_extraction.text import TfidfVectorizer\n",
    "\n",
    "import os\n",
    "from scipy.sparse import coo_matrix"
   ]
  },
  {
   "cell_type": "markdown",
   "id": "2a6b3b0f",
   "metadata": {},
   "source": [
    "# Step 1: Data Loading and Preprocessing"
   ]
  },
  {
   "cell_type": "code",
   "execution_count": 42,
   "id": "ab91064a",
   "metadata": {},
   "outputs": [
    {
     "data": {
      "text/plain": [
       "Index(['Uniq Id', 'Crawl Timestamp', 'Dataset Origin', 'Product Id',\n",
       "       'Product Barcode', 'Product Company Type Source',\n",
       "       'Product Brand Source', 'Product Brand Normalised Source',\n",
       "       'Product Name Source', 'Match Rank', 'Match Score', 'Match Type',\n",
       "       'Retailer', 'Product Category', 'Product Brand', 'Product Name',\n",
       "       'Product Price', 'Sku', 'Upc', 'Product Url', 'Market',\n",
       "       'Product Description', 'Product Currency',\n",
       "       'Product Available Inventory', 'Product Image Url',\n",
       "       'Product Model Number', 'Product Tags', 'Product Contents',\n",
       "       'Product Rating', 'Product Reviews Count', 'Bsr', 'Joining Key'],\n",
       "      dtype='object')"
      ]
     },
     "execution_count": 42,
     "metadata": {},
     "output_type": "execute_result"
    }
   ],
   "source": [
    "# Read your dataset (replace 'marketing_sample_for_walmart_com-walmart_com_product_review__20200701_20201231__5k_data.tsv' with your dataset path)\n",
    "train_data = pd.read_csv('marketing_sample_for_walmart_com-walmart_com_product_review__20200701_20201231__5k_data.tsv', sep='\\t')\n",
    "train_data.columns"
   ]
  },
  {
   "cell_type": "code",
   "execution_count": 43,
   "id": "42b87218",
   "metadata": {},
   "outputs": [
    {
     "data": {
      "text/html": [
       "<div>\n",
       "<style scoped>\n",
       "    .dataframe tbody tr th:only-of-type {\n",
       "        vertical-align: middle;\n",
       "    }\n",
       "\n",
       "    .dataframe tbody tr th {\n",
       "        vertical-align: top;\n",
       "    }\n",
       "\n",
       "    .dataframe thead th {\n",
       "        text-align: right;\n",
       "    }\n",
       "</style>\n",
       "<table border=\"1\" class=\"dataframe\">\n",
       "  <thead>\n",
       "    <tr style=\"text-align: right;\">\n",
       "      <th></th>\n",
       "      <th>Uniq Id</th>\n",
       "      <th>Product Id</th>\n",
       "      <th>Product Rating</th>\n",
       "      <th>Product Reviews Count</th>\n",
       "      <th>Product Category</th>\n",
       "      <th>Product Brand</th>\n",
       "      <th>Product Name</th>\n",
       "      <th>Product Image Url</th>\n",
       "      <th>Product Description</th>\n",
       "      <th>Product Tags</th>\n",
       "    </tr>\n",
       "  </thead>\n",
       "  <tbody>\n",
       "    <tr>\n",
       "      <th>0</th>\n",
       "      <td>1705736792d82aa2f2d3caf1c07c53f4</td>\n",
       "      <td>2e17bf4acecdece67fc00f07ad62c910</td>\n",
       "      <td>NaN</td>\n",
       "      <td>NaN</td>\n",
       "      <td>Premium Beauty &gt; Premium Makeup &gt; Premium Nail...</td>\n",
       "      <td>OPI</td>\n",
       "      <td>OPI Infinite Shine, Nail Lacquer Nail Polish, ...</td>\n",
       "      <td>https://i5.walmartimages.com/asr/0e1f4c51-c1a4...</td>\n",
       "      <td>NaN</td>\n",
       "      <td>OPI Infinite Shine, Nail Lacquer Nail Polish, ...</td>\n",
       "    </tr>\n",
       "    <tr>\n",
       "      <th>1</th>\n",
       "      <td>95a9fe6f4810fcfc7ff244fd06784f11</td>\n",
       "      <td>076e5854a62dd283c253d6bae415af1f</td>\n",
       "      <td>NaN</td>\n",
       "      <td>NaN</td>\n",
       "      <td>Beauty &gt; Hair Care &gt; Hair Color &gt; Auburn Hair ...</td>\n",
       "      <td>Nice'n Easy</td>\n",
       "      <td>Nice n Easy Permanent Color, 111 Natural Mediu...</td>\n",
       "      <td>https://i5.walmartimages.com/asr/9c8e42e4-13a5...</td>\n",
       "      <td>Pack of 3 Pack of 3 for the UPC: 381519000201 ...</td>\n",
       "      <td>Nice 'n Easy Permanent Color, 111 Natural Medi...</td>\n",
       "    </tr>\n",
       "    <tr>\n",
       "      <th>2</th>\n",
       "      <td>8d4d0330178d3ed181b15a4102b287f2</td>\n",
       "      <td>8a4fe5d9c7a6ed26cc44d785a454b124</td>\n",
       "      <td>4.5</td>\n",
       "      <td>29221.0</td>\n",
       "      <td>Beauty &gt; Hair Care &gt; Hair Color &gt; Permanent Ha...</td>\n",
       "      <td>Clairol</td>\n",
       "      <td>Clairol Nice N Easy Permanent Color 7/106A Nat...</td>\n",
       "      <td>https://i5.walmartimages.com/asr/e3a601c2-6a2b...</td>\n",
       "      <td>This Clairol Nice N Easy Permanent Color gives...</td>\n",
       "      <td>Clairol Nice 'N Easy Permanent Color 7/106A Na...</td>\n",
       "    </tr>\n",
       "  </tbody>\n",
       "</table>\n",
       "</div>"
      ],
      "text/plain": [
       "                            Uniq Id                        Product Id  \\\n",
       "0  1705736792d82aa2f2d3caf1c07c53f4  2e17bf4acecdece67fc00f07ad62c910   \n",
       "1  95a9fe6f4810fcfc7ff244fd06784f11  076e5854a62dd283c253d6bae415af1f   \n",
       "2  8d4d0330178d3ed181b15a4102b287f2  8a4fe5d9c7a6ed26cc44d785a454b124   \n",
       "\n",
       "   Product Rating  Product Reviews Count  \\\n",
       "0             NaN                    NaN   \n",
       "1             NaN                    NaN   \n",
       "2             4.5                29221.0   \n",
       "\n",
       "                                    Product Category Product Brand  \\\n",
       "0  Premium Beauty > Premium Makeup > Premium Nail...           OPI   \n",
       "1  Beauty > Hair Care > Hair Color > Auburn Hair ...   Nice'n Easy   \n",
       "2  Beauty > Hair Care > Hair Color > Permanent Ha...       Clairol   \n",
       "\n",
       "                                        Product Name  \\\n",
       "0  OPI Infinite Shine, Nail Lacquer Nail Polish, ...   \n",
       "1  Nice n Easy Permanent Color, 111 Natural Mediu...   \n",
       "2  Clairol Nice N Easy Permanent Color 7/106A Nat...   \n",
       "\n",
       "                                   Product Image Url  \\\n",
       "0  https://i5.walmartimages.com/asr/0e1f4c51-c1a4...   \n",
       "1  https://i5.walmartimages.com/asr/9c8e42e4-13a5...   \n",
       "2  https://i5.walmartimages.com/asr/e3a601c2-6a2b...   \n",
       "\n",
       "                                 Product Description  \\\n",
       "0                                                NaN   \n",
       "1  Pack of 3 Pack of 3 for the UPC: 381519000201 ...   \n",
       "2  This Clairol Nice N Easy Permanent Color gives...   \n",
       "\n",
       "                                        Product Tags  \n",
       "0  OPI Infinite Shine, Nail Lacquer Nail Polish, ...  \n",
       "1  Nice 'n Easy Permanent Color, 111 Natural Medi...  \n",
       "2  Clairol Nice 'N Easy Permanent Color 7/106A Na...  "
      ]
     },
     "execution_count": 43,
     "metadata": {},
     "output_type": "execute_result"
    }
   ],
   "source": [
    "train_data = train_data[['Uniq Id','Product Id', 'Product Rating', 'Product Reviews Count', 'Product Category', 'Product Brand', 'Product Name', 'Product Image Url', 'Product Description', 'Product Tags']]\n",
    "train_data.head(3)"
   ]
  },
  {
   "cell_type": "markdown",
   "id": "f75a34bb",
   "metadata": {},
   "source": [
    "# Basic Operations"
   ]
  },
  {
   "cell_type": "code",
   "execution_count": 44,
   "id": "88d91adf",
   "metadata": {},
   "outputs": [
    {
     "data": {
      "text/plain": [
       "0       OPI Infinite Shine, Nail Lacquer Nail Polish, ...\n",
       "1       Nice 'n Easy Permanent Color, 111 Natural Medi...\n",
       "2       Clairol Nice 'N Easy Permanent Color 7/106A Na...\n",
       "3       Kokie Professional Matte Lipstick, Hot Berry, ...\n",
       "4       Gillette TRAC II Plus Razor Blade Refills, Fit...\n",
       "                              ...                        \n",
       "4995    Garden Mint Room Spray (Double Strength), 4 ou...\n",
       "4996    Garnier Nutrisse Nourishing Hair Color Creme (...\n",
       "4997    Nail File Electric Drill, 6 in 1 Professional ...\n",
       "4998    Creed Love In Black Hair And Body Wash 6.8oz/2...\n",
       "4999                    Foundation, Wal-mart, Walmart.com\n",
       "Name: Product Tags, Length: 5000, dtype: object"
      ]
     },
     "execution_count": 44,
     "metadata": {},
     "output_type": "execute_result"
    }
   ],
   "source": [
    "train_data['Product Tags']"
   ]
  },
  {
   "cell_type": "code",
   "execution_count": 45,
   "id": "e377ddbb",
   "metadata": {},
   "outputs": [
    {
     "data": {
      "text/plain": [
       "(5000, 10)"
      ]
     },
     "execution_count": 45,
     "metadata": {},
     "output_type": "execute_result"
    }
   ],
   "source": [
    "train_data.shape"
   ]
  },
  {
   "cell_type": "code",
   "execution_count": 46,
   "id": "9abc0a9c",
   "metadata": {},
   "outputs": [
    {
     "data": {
      "text/plain": [
       "Uniq Id                     0\n",
       "Product Id                  0\n",
       "Product Rating           2806\n",
       "Product Reviews Count    1654\n",
       "Product Category           10\n",
       "Product Brand              13\n",
       "Product Name                0\n",
       "Product Image Url           0\n",
       "Product Description      1127\n",
       "Product Tags                0\n",
       "dtype: int64"
      ]
     },
     "execution_count": 46,
     "metadata": {},
     "output_type": "execute_result"
    }
   ],
   "source": [
    "train_data.isnull().sum()"
   ]
  },
  {
   "cell_type": "code",
   "execution_count": 47,
   "id": "40da2a64",
   "metadata": {},
   "outputs": [],
   "source": [
    "# Assign the entire column back to avoid chained assignment\n",
    "if 'Product Rating' in train_data.columns:\n",
    "    train_data['Product Rating'] = train_data['Product Rating'].fillna(0)\n",
    "\n",
    "if 'Product Reviews Count' in train_data.columns:\n",
    "    train_data['Product Reviews Count'] = train_data['Product Reviews Count'].fillna(0)\n",
    "\n",
    "if 'Product Category' in train_data.columns:\n",
    "    train_data['Product Category'] = train_data['Product Category'].fillna('')\n",
    "\n",
    "if 'Product Brand' in train_data.columns:\n",
    "    train_data['Product Brand'] = train_data['Product Brand'].fillna('')\n",
    "\n",
    "if 'Product Description' in train_data.columns:\n",
    "    train_data['Product Description'] = train_data['Product Description'].fillna('')\n"
   ]
  },
  {
   "cell_type": "code",
   "execution_count": 48,
   "id": "c6ae1d91",
   "metadata": {},
   "outputs": [
    {
     "data": {
      "text/plain": [
       "Uniq Id                  0\n",
       "Product Id               0\n",
       "Product Rating           0\n",
       "Product Reviews Count    0\n",
       "Product Category         0\n",
       "Product Brand            0\n",
       "Product Name             0\n",
       "Product Image Url        0\n",
       "Product Description      0\n",
       "Product Tags             0\n",
       "dtype: int64"
      ]
     },
     "execution_count": 48,
     "metadata": {},
     "output_type": "execute_result"
    }
   ],
   "source": [
    "train_data.isnull().sum()"
   ]
  },
  {
   "cell_type": "code",
   "execution_count": 49,
   "id": "fa4021f6",
   "metadata": {},
   "outputs": [
    {
     "data": {
      "text/plain": [
       "np.int64(0)"
      ]
     },
     "execution_count": 49,
     "metadata": {},
     "output_type": "execute_result"
    }
   ],
   "source": [
    "train_data.duplicated().sum()"
   ]
  },
  {
   "cell_type": "code",
   "execution_count": 50,
   "id": "3028bdfc",
   "metadata": {},
   "outputs": [],
   "source": [
    "# make columns shorter\n",
    "# Define the mapping of current column names to shorter names\n",
    "column_name_mapping = {\n",
    "    'Uniq Id': 'ID',\n",
    "    'Product Id': 'ProdID',\n",
    "    'Product Rating': 'Rating',\n",
    "    'Product Reviews Count': 'ReviewCount',\n",
    "    'Product Category': 'Category',\n",
    "    'Product Brand': 'Brand',\n",
    "    'Product Name': 'Name',\n",
    "    'Product Image Url': 'ImageURL',\n",
    "    'Product Description': 'Description',\n",
    "    'Product Tags': 'Tags',\n",
    "    'Product Contents': 'Contents'\n",
    "}\n",
    "# Rename the columns using the mapping\n",
    "train_data.rename(columns=column_name_mapping, inplace=True)"
   ]
  },
  {
   "cell_type": "code",
   "execution_count": 51,
   "id": "7b988d09",
   "metadata": {},
   "outputs": [],
   "source": [
    "train_data['ID'] = train_data['ID'].str.extract(r'(\\d+)').astype(float)\n",
    "train_data['ProdID'] = train_data['ProdID'].str.extract(r'(\\d+)').astype(float)"
   ]
  },
  {
   "cell_type": "markdown",
   "id": "57762064",
   "metadata": {},
   "source": [
    "# Step 2: EDA (Exploratory Data Analysis)"
   ]
  },
  {
   "cell_type": "code",
   "execution_count": 52,
   "id": "77d39f33",
   "metadata": {},
   "outputs": [
    {
     "name": "stdout",
     "output_type": "stream",
     "text": [
      "Number of unique users: 1721\n",
      "Number of unique items: 1697\n",
      "Number of unique ratings: 36\n"
     ]
    }
   ],
   "source": [
    "# Basic statistics\n",
    "num_users = train_data['ID'].nunique()\n",
    "num_items = train_data['ProdID'].nunique()\n",
    "num_ratings = train_data['Rating'].nunique()\n",
    "print(f\"Number of unique users: {num_users}\")\n",
    "print(f\"Number of unique items: {num_items}\")\n",
    "print(f\"Number of unique ratings: {num_ratings}\")"
   ]
  },
  {
   "cell_type": "code",
   "execution_count": 53,
   "id": "5d91b1a1",
   "metadata": {},
   "outputs": [
    {
     "data": {
      "image/png": "[encoded data removed]",
      "text/plain": [
       "<Figure size 800x600 with 2 Axes>"
      ]
     },
     "metadata": {},
     "output_type": "display_data"
    }
   ],
   "source": [
    "# Pivot the DataFrame to create a heatmap\n",
    "heatmap_data = train_data.pivot_table('ID', 'Rating')\n",
    "\n",
    "# Create the heatmap\n",
    "plt.figure(figsize=(8, 6))\n",
    "sns.heatmap(heatmap_data, annot=True, fmt='g', cmap='coolwarm', cbar=True)\n",
    "plt.title('Heatmap of User Ratings')\n",
    "plt.xlabel('Ratings')\n",
    "plt.ylabel('User ID')\n",
    "plt.show()"
   ]
  },
  {
   "cell_type": "code",
   "execution_count": 54,
   "id": "ab7bc904",
   "metadata": {},
   "outputs": [
    {
     "data": {
      "image/png": "[encoded data removed]",
      "text/plain": [
       "<Figure size 1200x500 with 2 Axes>"
      ]
     },
     "metadata": {},
     "output_type": "display_data"
    }
   ],
   "source": [
    "# Distribution of interactions\n",
    "plt.figure(figsize=(12, 5))\n",
    "plt.subplot(1, 2, 1)\n",
    "train_data['ID'].value_counts().hist(bins=10, edgecolor='k')\n",
    "plt.xlabel('Interactions per User')\n",
    "plt.ylabel('Number of Users')\n",
    "plt.title('Distribution of Interactions per User')\n",
    "\n",
    "plt.subplot(1, 2, 2)\n",
    "train_data['ProdID'].value_counts().hist(bins=10, edgecolor='k',color='green')\n",
    "plt.xlabel('Interactions per Item')\n",
    "plt.ylabel('Number of Items')\n",
    "plt.title('Distribution of Interactions per Item')\n",
    "\n",
    "plt.tight_layout()\n",
    "plt.show()"
   ]
  },
  {
   "cell_type": "code",
   "execution_count": 55,
   "id": "6d330260",
   "metadata": {},
   "outputs": [
    {
     "data": {
      "text/plain": [
       "Text(0.5, 1.0, 'Most Popular items')"
      ]
     },
     "execution_count": 55,
     "metadata": {},
     "output_type": "execute_result"
    },
    {
     "data": {
      "image/png": "[encoded data removed]",
      "text/plain": [
       "<Figure size 640x480 with 1 Axes>"
      ]
     },
     "metadata": {},
     "output_type": "display_data"
    }
   ],
   "source": [
    "# Most popular items\n",
    "popular_items = train_data['ProdID'].value_counts().head(5)\n",
    "popular_items.plot(kind='bar',color='red')\n",
    "plt.title(\"Most Popular items\")"
   ]
  },
  {
   "cell_type": "code",
   "execution_count": 56,
   "id": "b9b8df99",
   "metadata": {},
   "outputs": [
    {
     "data": {
      "text/plain": [
       "<Axes: xlabel='Rating'>"
      ]
     },
     "execution_count": 56,
     "metadata": {},
     "output_type": "execute_result"
    },
    {
     "data": {
      "image/png": "[encoded data removed]",
      "text/plain": [
       "<Figure size 640x480 with 1 Axes>"
      ]
     },
     "metadata": {},
     "output_type": "display_data"
    }
   ],
   "source": [
    "# most rated counts\n",
    "train_data['Rating'].value_counts().plot(kind='bar',color='red')"
   ]
  },
  {
   "cell_type": "raw",
   "id": "c7b2cf34",
   "metadata": {},
   "source": [
    "# Step 2: EDA (Exploratory Data Analysis)"
   ]
  },
  {
   "cell_type": "markdown",
   "id": "dfec3404",
   "metadata": {},
   "source": [
    "# Step 3: Data Cleaning and Tags Creations"
   ]
  },
  {
   "cell_type": "code",
   "execution_count": 57,
   "id": "c16cf5b9",
   "metadata": {},
   "outputs": [
    {
     "name": "stdout",
     "output_type": "stream",
     "text": [
      "             ID  ProdID  Rating  ReviewCount  \\\n",
      "0  1.705737e+09     2.0     0.0          0.0   \n",
      "1  9.500000e+01    76.0     0.0          0.0   \n",
      "2  8.000000e+00     8.0     4.5      29221.0   \n",
      "3  4.000000e+00     3.0     0.0          0.0   \n",
      "4  9.900000e+02     3.0     0.0        131.0   \n",
      "\n",
      "                                            Category             Brand  \\\n",
      "0  premium, beauty, premium, makeup, premium, nai...               opi   \n",
      "1  beauty, hair, care, hair, color, auburn, hair,...              easy   \n",
      "2  beauty, hair, care, hair, color, permanent, ha...           clairol   \n",
      "3                                beauty, makeup, lip  kokie, cosmetics   \n",
      "4  seasonal, stock, essentials, personal, care, s...          gillette   \n",
      "\n",
      "                                                Name  \\\n",
      "0  OPI Infinite Shine, Nail Lacquer Nail Polish, ...   \n",
      "1  Nice n Easy Permanent Color, 111 Natural Mediu...   \n",
      "2  Clairol Nice N Easy Permanent Color 7/106A Nat...   \n",
      "3  Kokie Professional Matte Lipstick, Hot Berry, ...   \n",
      "4  Gillette TRAC II Plus Razor Blade Refills, Fit...   \n",
      "\n",
      "                                            ImageURL  \\\n",
      "0  https://i5.walmartimages.com/asr/0e1f4c51-c1a4...   \n",
      "1  https://i5.walmartimages.com/asr/9c8e42e4-13a5...   \n",
      "2  https://i5.walmartimages.com/asr/e3a601c2-6a2b...   \n",
      "3  https://i5.walmartimages.com/asr/25b4b467-bc61...   \n",
      "4  https://i5.walmartimages.com/asr/1a2ebb06-cd01...   \n",
      "\n",
      "                                         Description  \\\n",
      "0                                                      \n",
      "1  pack, 3, pack, 3, upc, 381519000201, beautiful...   \n",
      "2  clairol, nice, n, easy, permanent, color, give...   \n",
      "3  calling, matte, lip, lovers, indulge, rich, cr...   \n",
      "4  1971, gillette, introduced, trac, ii, razor, s...   \n",
      "\n",
      "                                                Tags  \n",
      "0  OPI Infinite Shine, Nail Lacquer Nail Polish, ...  \n",
      "1  Nice 'n Easy Permanent Color, 111 Natural Medi...  \n",
      "2  Clairol Nice 'N Easy Permanent Color 7/106A Na...  \n",
      "3  Kokie Professional Matte Lipstick, Hot Berry, ...  \n",
      "4  Gillette TRAC II Plus Razor Blade Refills, Fit...  \n"
     ]
    }
   ],
   "source": [
    "import spacy\n",
    "from spacy.lang.en.stop_words import STOP_WORDS\n",
    "\n",
    "# Load the SpaCy model\n",
    "nlp = spacy.load(\"en_core_web_sm\")\n",
    "\n",
    "def clean_and_extract_tags(text):\n",
    "    doc = nlp(text.lower())\n",
    "    tags = [token.text for token in doc if token.text.isalnum() and token.text not in STOP_WORDS]\n",
    "    return ', '.join(tags)\n",
    "\n",
    "# List of columns to apply the function on\n",
    "columns_to_extract_tags_from = ['Category', 'Brand', 'Description']\n",
    "\n",
    "# Ensure columns exist and apply the function\n",
    "for column in columns_to_extract_tags_from:\n",
    "    if column in train_data.columns:\n",
    "        train_data[column] = train_data[column].apply(clean_and_extract_tags)\n",
    "\n",
    "# Check the results\n",
    "print(train_data.head())\n"
   ]
  },
  {
   "cell_type": "code",
   "execution_count": 58,
   "id": "c8ae69c5",
   "metadata": {},
   "outputs": [],
   "source": [
    "# Concatenate the cleaned tags from all relevant columns\n",
    "train_data['Tags'] = train_data[columns_to_extract_tags_from].apply(lambda row: ', '.join(row), axis=1)"
   ]
  },
  {
   "cell_type": "markdown",
   "id": "844cf03c",
   "metadata": {},
   "source": [
    "# Rating Base Recommendations System"
   ]
  },
  {
   "cell_type": "code",
   "execution_count": 59,
   "id": "0e17cab4",
   "metadata": {},
   "outputs": [],
   "source": [
    "average_ratings = train_data.groupby(['Name','ReviewCount','Brand','ImageURL'])['Rating'].mean().reset_index()"
   ]
  },
  {
   "cell_type": "code",
   "execution_count": 60,
   "id": "9bdb9c42",
   "metadata": {},
   "outputs": [],
   "source": [
    "top_rated_items = average_ratings.sort_values(by='Rating', ascending=False)\n",
    "\n",
    "rating_base_recommendation = top_rated_items.head(10)"
   ]
  },
  {
   "cell_type": "code",
   "execution_count": 61,
   "id": "dbd775cb",
   "metadata": {},
   "outputs": [],
   "source": [
    "rating_base_recommendation.loc[:, 'Rating'] = rating_base_recommendation['Rating'].astype(int)\n",
    "rating_base_recommendation.loc[:, 'ReviewCount'] = rating_base_recommendation['ReviewCount'].astype(int)\n"
   ]
  },
  {
   "cell_type": "code",
   "execution_count": 62,
   "id": "eeefbc7b",
   "metadata": {},
   "outputs": [],
   "source": [
    "# Ensure you are working on a copy of the DataFrame if it is a slice\n",
    "rating_base_recommendation = rating_base_recommendation.copy()\n",
    "\n",
    "# Use .loc to assign multiple columns\n",
    "rating_base_recommendation.loc[:, ['Name', 'Rating', 'ReviewCount', 'Brand', 'ImageURL']] = rating_base_recommendation[['Name', 'Rating', 'ReviewCount', 'Brand', 'ImageURL']]\n"
   ]
  },
  {
   "cell_type": "markdown",
   "id": "d6c86fcf",
   "metadata": {},
   "source": [
    "# Content Base Recommendation system (User Preferences or Items similarities)"
   ]
  },
  {
   "cell_type": "code",
   "execution_count": 63,
   "id": "79cc6f25",
   "metadata": {},
   "outputs": [],
   "source": [
    "from sklearn.feature_extraction.text import TfidfVectorizer\n",
    "from sklearn.metrics.pairwise import cosine_similarity\n",
    "\n",
    "tfidf_vectorizer = TfidfVectorizer(stop_words='english')\n",
    "tfidf_matrix_content = tfidf_vectorizer.fit_transform(train_data['Tags'])\n",
    "cosine_similarities_content = cosine_similarity(tfidf_matrix_content,tfidf_matrix_content)"
   ]
  },
  {
   "cell_type": "code",
   "execution_count": 64,
   "id": "91457320",
   "metadata": {},
   "outputs": [],
   "source": [
    "item_name = 'OPI Infinite Shine, Nail Lacquer Nail Polish, Bubble Bath'\n",
    "item_index = train_data[train_data['Name']==item_name].index[0]"
   ]
  },
  {
   "cell_type": "code",
   "execution_count": 65,
   "id": "e763a44d",
   "metadata": {},
   "outputs": [],
   "source": [
    "similar_items = list(enumerate(cosine_similarities_content[item_index]))"
   ]
  },
  {
   "cell_type": "code",
   "execution_count": 66,
   "id": "2066dd9c",
   "metadata": {},
   "outputs": [],
   "source": [
    "similar_items = sorted(similar_items, key=lambda x:x[1], reverse=True)\n",
    "top_similar_items = similar_items[1:10]\n",
    "\n",
    "recommended_items_indics = [x[0] for x in top_similar_items]"
   ]
  },
  {
   "cell_type": "code",
   "execution_count": 67,
   "id": "721fa02b",
   "metadata": {},
   "outputs": [
    {
     "data": {
      "text/html": [
       "<div>\n",
       "<style scoped>\n",
       "    .dataframe tbody tr th:only-of-type {\n",
       "        vertical-align: middle;\n",
       "    }\n",
       "\n",
       "    .dataframe tbody tr th {\n",
       "        vertical-align: top;\n",
       "    }\n",
       "\n",
       "    .dataframe thead th {\n",
       "        text-align: right;\n",
       "    }\n",
       "</style>\n",
       "<table border=\"1\" class=\"dataframe\">\n",
       "  <thead>\n",
       "    <tr style=\"text-align: right;\">\n",
       "      <th></th>\n",
       "      <th>Name</th>\n",
       "      <th>ReviewCount</th>\n",
       "      <th>Brand</th>\n",
       "    </tr>\n",
       "  </thead>\n",
       "  <tbody>\n",
       "    <tr>\n",
       "      <th>156</th>\n",
       "      <td>OPI Nail Lacquer Polish .5oz/15mL - This Gown ...</td>\n",
       "      <td>0.0</td>\n",
       "      <td>opi</td>\n",
       "    </tr>\n",
       "    <tr>\n",
       "      <th>184</th>\n",
       "      <td>OPI Nail Gel Polish GelColor .5oz/15mL 3 CT Co...</td>\n",
       "      <td>0.0</td>\n",
       "      <td>opi</td>\n",
       "    </tr>\n",
       "    <tr>\n",
       "      <th>205</th>\n",
       "      <td>OPI Nail Lacquer - Dont Bossa Nova Me Around -...</td>\n",
       "      <td>0.0</td>\n",
       "      <td>opi</td>\n",
       "    </tr>\n",
       "    <tr>\n",
       "      <th>237</th>\n",
       "      <td>OPI Infinite Shine 2 Polish - ISL P33 - Alpaca...</td>\n",
       "      <td>5.0</td>\n",
       "      <td>opi</td>\n",
       "    </tr>\n",
       "    <tr>\n",
       "      <th>325</th>\n",
       "      <td>OPI Gel Polish Fall 2019 Scotland Collection G...</td>\n",
       "      <td>1.0</td>\n",
       "      <td>opi</td>\n",
       "    </tr>\n",
       "    <tr>\n",
       "      <th>375</th>\n",
       "      <td>OPI Nail Gel Polish GelColor .5oz/15mL 3 CT Co...</td>\n",
       "      <td>1.0</td>\n",
       "      <td>opi</td>\n",
       "    </tr>\n",
       "    <tr>\n",
       "      <th>402</th>\n",
       "      <td>OPI Nail Polish, Strawberry Margarita, 0.5 Fl Oz</td>\n",
       "      <td>57.0</td>\n",
       "      <td>opi</td>\n",
       "    </tr>\n",
       "    <tr>\n",
       "      <th>706</th>\n",
       "      <td>OPI Nail Gel Polish GelColor .5oz/15mL 3 CT Co...</td>\n",
       "      <td>1.0</td>\n",
       "      <td>opi</td>\n",
       "    </tr>\n",
       "    <tr>\n",
       "      <th>886</th>\n",
       "      <td>OPI- Nail Lacquer-GelColor - &amp;quotLiv&amp;quotin t...</td>\n",
       "      <td>0.0</td>\n",
       "      <td>opi</td>\n",
       "    </tr>\n",
       "  </tbody>\n",
       "</table>\n",
       "</div>"
      ],
      "text/plain": [
       "                                                  Name  ReviewCount Brand\n",
       "156  OPI Nail Lacquer Polish .5oz/15mL - This Gown ...          0.0   opi\n",
       "184  OPI Nail Gel Polish GelColor .5oz/15mL 3 CT Co...          0.0   opi\n",
       "205  OPI Nail Lacquer - Dont Bossa Nova Me Around -...          0.0   opi\n",
       "237  OPI Infinite Shine 2 Polish - ISL P33 - Alpaca...          5.0   opi\n",
       "325  OPI Gel Polish Fall 2019 Scotland Collection G...          1.0   opi\n",
       "375  OPI Nail Gel Polish GelColor .5oz/15mL 3 CT Co...          1.0   opi\n",
       "402   OPI Nail Polish, Strawberry Margarita, 0.5 Fl Oz         57.0   opi\n",
       "706  OPI Nail Gel Polish GelColor .5oz/15mL 3 CT Co...          1.0   opi\n",
       "886  OPI- Nail Lacquer-GelColor - &quotLiv&quotin t...          0.0   opi"
      ]
     },
     "execution_count": 67,
     "metadata": {},
     "output_type": "execute_result"
    }
   ],
   "source": [
    "train_data.iloc[recommended_items_indics][['Name','ReviewCount','Brand']]"
   ]
  },
  {
   "cell_type": "markdown",
   "id": "6d143b78",
   "metadata": {},
   "source": [
    "# Function To Recommend Products for Content Base"
   ]
  },
  {
   "cell_type": "code",
   "execution_count": 68,
   "id": "06226aae",
   "metadata": {},
   "outputs": [],
   "source": [
    "from sklearn.feature_extraction.text import TfidfVectorizer\n",
    "from sklearn.metrics.pairwise import cosine_similarity\n",
    "\n",
    "def content_based_recommendations(train_data, item_name, top_n=10):\n",
    "    # Check if the item name exists in the training data\n",
    "    if item_name not in train_data['Name'].values:\n",
    "        print(f\"Item '{item_name}' not found in the training data.\")\n",
    "        return pd.DataFrame()\n",
    "\n",
    "    # Create a TF-IDF vectorizer for item descriptions\n",
    "    tfidf_vectorizer = TfidfVectorizer(stop_words='english')\n",
    "\n",
    "    # Apply TF-IDF vectorization to item descriptions\n",
    "    tfidf_matrix_content = tfidf_vectorizer.fit_transform(train_data['Tags'])\n",
    "\n",
    "    # Calculate cosine similarity between items based on descriptions\n",
    "    cosine_similarities_content = cosine_similarity(tfidf_matrix_content, tfidf_matrix_content)\n",
    "\n",
    "    # Find the index of the item\n",
    "    item_index = train_data[train_data['Name'] == item_name].index[0]\n",
    "\n",
    "    # Get the cosine similarity scores for the item\n",
    "    similar_items = list(enumerate(cosine_similarities_content[item_index]))\n",
    "\n",
    "    # Sort similar items by similarity score in descending order\n",
    "    similar_items = sorted(similar_items, key=lambda x: x[1], reverse=True)\n",
    "\n",
    "    # Get the top N most similar items (excluding the item itself)\n",
    "    top_similar_items = similar_items[1:top_n+1]\n",
    "\n",
    "    # Get the indices of the top similar items\n",
    "    recommended_item_indices = [x[0] for x in top_similar_items]\n",
    "\n",
    "    # Get the details of the top similar items\n",
    "    recommended_items_details = train_data.iloc[recommended_item_indices][['Name', 'ReviewCount', 'Brand', 'ImageURL', 'Rating']]\n",
    "\n",
    "    return recommended_items_details"
   ]
  },
  {
   "cell_type": "code",
   "execution_count": 69,
   "id": "d9d95dce",
   "metadata": {},
   "outputs": [
    {
     "data": {
      "text/html": [
       "<div>\n",
       "<style scoped>\n",
       "    .dataframe tbody tr th:only-of-type {\n",
       "        vertical-align: middle;\n",
       "    }\n",
       "\n",
       "    .dataframe tbody tr th {\n",
       "        vertical-align: top;\n",
       "    }\n",
       "\n",
       "    .dataframe thead th {\n",
       "        text-align: right;\n",
       "    }\n",
       "</style>\n",
       "<table border=\"1\" class=\"dataframe\">\n",
       "  <thead>\n",
       "    <tr style=\"text-align: right;\">\n",
       "      <th></th>\n",
       "      <th>Name</th>\n",
       "      <th>ReviewCount</th>\n",
       "      <th>Brand</th>\n",
       "      <th>ImageURL</th>\n",
       "      <th>Rating</th>\n",
       "    </tr>\n",
       "  </thead>\n",
       "  <tbody>\n",
       "    <tr>\n",
       "      <th>156</th>\n",
       "      <td>OPI Nail Lacquer Polish .5oz/15mL - This Gown ...</td>\n",
       "      <td>0.0</td>\n",
       "      <td>opi</td>\n",
       "      <td>https://i5.walmartimages.com/asr/71caed3f-5f83...</td>\n",
       "      <td>0.0</td>\n",
       "    </tr>\n",
       "    <tr>\n",
       "      <th>184</th>\n",
       "      <td>OPI Nail Gel Polish GelColor .5oz/15mL 3 CT Co...</td>\n",
       "      <td>0.0</td>\n",
       "      <td>opi</td>\n",
       "      <td>https://i5.walmartimages.com/asr/2d6f5147-53a8...</td>\n",
       "      <td>0.0</td>\n",
       "    </tr>\n",
       "    <tr>\n",
       "      <th>205</th>\n",
       "      <td>OPI Nail Lacquer - Dont Bossa Nova Me Around -...</td>\n",
       "      <td>0.0</td>\n",
       "      <td>opi</td>\n",
       "      <td>https://i5.walmartimages.com/asr/fd1195d2-8d8d...</td>\n",
       "      <td>0.0</td>\n",
       "    </tr>\n",
       "    <tr>\n",
       "      <th>237</th>\n",
       "      <td>OPI Infinite Shine 2 Polish - ISL P33 - Alpaca...</td>\n",
       "      <td>5.0</td>\n",
       "      <td>opi</td>\n",
       "      <td>https://i5.walmartimages.com/asr/7426eb5c-1690...</td>\n",
       "      <td>0.0</td>\n",
       "    </tr>\n",
       "    <tr>\n",
       "      <th>325</th>\n",
       "      <td>OPI Gel Polish Fall 2019 Scotland Collection G...</td>\n",
       "      <td>1.0</td>\n",
       "      <td>opi</td>\n",
       "      <td>https://i5.walmartimages.com/asr/79bbbd9f-9a89...</td>\n",
       "      <td>0.0</td>\n",
       "    </tr>\n",
       "    <tr>\n",
       "      <th>375</th>\n",
       "      <td>OPI Nail Gel Polish GelColor .5oz/15mL 3 CT Co...</td>\n",
       "      <td>1.0</td>\n",
       "      <td>opi</td>\n",
       "      <td>https://i5.walmartimages.com/asr/744e869c-3500...</td>\n",
       "      <td>5.0</td>\n",
       "    </tr>\n",
       "    <tr>\n",
       "      <th>402</th>\n",
       "      <td>OPI Nail Polish, Strawberry Margarita, 0.5 Fl Oz</td>\n",
       "      <td>57.0</td>\n",
       "      <td>opi</td>\n",
       "      <td>https://i5.walmartimages.com/asr/b95676e5-96ab...</td>\n",
       "      <td>4.4</td>\n",
       "    </tr>\n",
       "    <tr>\n",
       "      <th>706</th>\n",
       "      <td>OPI Nail Gel Polish GelColor .5oz/15mL 3 CT Co...</td>\n",
       "      <td>1.0</td>\n",
       "      <td>opi</td>\n",
       "      <td>https://i5.walmartimages.com/asr/c7ba4815-52f7...</td>\n",
       "      <td>5.0</td>\n",
       "    </tr>\n",
       "  </tbody>\n",
       "</table>\n",
       "</div>"
      ],
      "text/plain": [
       "                                                  Name  ReviewCount Brand  \\\n",
       "156  OPI Nail Lacquer Polish .5oz/15mL - This Gown ...          0.0   opi   \n",
       "184  OPI Nail Gel Polish GelColor .5oz/15mL 3 CT Co...          0.0   opi   \n",
       "205  OPI Nail Lacquer - Dont Bossa Nova Me Around -...          0.0   opi   \n",
       "237  OPI Infinite Shine 2 Polish - ISL P33 - Alpaca...          5.0   opi   \n",
       "325  OPI Gel Polish Fall 2019 Scotland Collection G...          1.0   opi   \n",
       "375  OPI Nail Gel Polish GelColor .5oz/15mL 3 CT Co...          1.0   opi   \n",
       "402   OPI Nail Polish, Strawberry Margarita, 0.5 Fl Oz         57.0   opi   \n",
       "706  OPI Nail Gel Polish GelColor .5oz/15mL 3 CT Co...          1.0   opi   \n",
       "\n",
       "                                              ImageURL  Rating  \n",
       "156  https://i5.walmartimages.com/asr/71caed3f-5f83...     0.0  \n",
       "184  https://i5.walmartimages.com/asr/2d6f5147-53a8...     0.0  \n",
       "205  https://i5.walmartimages.com/asr/fd1195d2-8d8d...     0.0  \n",
       "237  https://i5.walmartimages.com/asr/7426eb5c-1690...     0.0  \n",
       "325  https://i5.walmartimages.com/asr/79bbbd9f-9a89...     0.0  \n",
       "375  https://i5.walmartimages.com/asr/744e869c-3500...     5.0  \n",
       "402  https://i5.walmartimages.com/asr/b95676e5-96ab...     4.4  \n",
       "706  https://i5.walmartimages.com/asr/c7ba4815-52f7...     5.0  "
      ]
     },
     "execution_count": 69,
     "metadata": {},
     "output_type": "execute_result"
    }
   ],
   "source": [
    "# Example: Get content-based recommendations for a specific item\n",
    "item_name = 'OPI Infinite Shine, Nail Lacquer Nail Polish, Bubble Bath'\n",
    "content_based_rec = content_based_recommendations(train_data, item_name, top_n=8)\n",
    "\n",
    "content_based_rec"
   ]
  },
  {
   "cell_type": "code",
   "execution_count": 70,
   "id": "04ebc5a6",
   "metadata": {},
   "outputs": [
    {
     "data": {
      "text/html": [
       "<div>\n",
       "<style scoped>\n",
       "    .dataframe tbody tr th:only-of-type {\n",
       "        vertical-align: middle;\n",
       "    }\n",
       "\n",
       "    .dataframe tbody tr th {\n",
       "        vertical-align: top;\n",
       "    }\n",
       "\n",
       "    .dataframe thead th {\n",
       "        text-align: right;\n",
       "    }\n",
       "</style>\n",
       "<table border=\"1\" class=\"dataframe\">\n",
       "  <thead>\n",
       "    <tr style=\"text-align: right;\">\n",
       "      <th></th>\n",
       "      <th>Name</th>\n",
       "      <th>ReviewCount</th>\n",
       "      <th>Brand</th>\n",
       "      <th>ImageURL</th>\n",
       "      <th>Rating</th>\n",
       "    </tr>\n",
       "  </thead>\n",
       "  <tbody>\n",
       "    <tr>\n",
       "      <th>3406</th>\n",
       "      <td>Kokie Professional Matte Lipstick, Firecracker...</td>\n",
       "      <td>0.0</td>\n",
       "      <td>kokie, cosmetics</td>\n",
       "      <td>https://i5.walmartimages.com/asr/8312221b-ed22...</td>\n",
       "      <td>0.0</td>\n",
       "    </tr>\n",
       "    <tr>\n",
       "      <th>546</th>\n",
       "      <td>Kokie Professional Matte Lipstick, Kiss Me, 0....</td>\n",
       "      <td>0.0</td>\n",
       "      <td>kokie, cosmetics</td>\n",
       "      <td>https://i5.walmartimages.com/asr/27dd82a2-2b9c...</td>\n",
       "      <td>0.0</td>\n",
       "    </tr>\n",
       "    <tr>\n",
       "      <th>2406</th>\n",
       "      <td>L.A. Colors Matte Lipstick, Tender Matte</td>\n",
       "      <td>3.0</td>\n",
       "      <td>colors</td>\n",
       "      <td>https://i5.walmartimages.com/asr/271264fb-e8c3...</td>\n",
       "      <td>3.7</td>\n",
       "    </tr>\n",
       "    <tr>\n",
       "      <th>4050</th>\n",
       "      <td>Kokie Professional Lip Poudre Liquid Matte Liq...</td>\n",
       "      <td>7.0</td>\n",
       "      <td>kokie, cosmetics</td>\n",
       "      <td>https://i5.walmartimages.com/asr/fdd7498c-319f...</td>\n",
       "      <td>3.4</td>\n",
       "    </tr>\n",
       "    <tr>\n",
       "      <th>4084</th>\n",
       "      <td>e.l.f. Mad for Matte 4 Piece Lip Color Set</td>\n",
       "      <td>0.0</td>\n",
       "      <td>cosmetics</td>\n",
       "      <td>https://i5.walmartimages.com/asr/e2d30304-edc9...</td>\n",
       "      <td>0.0</td>\n",
       "    </tr>\n",
       "    <tr>\n",
       "      <th>1559</th>\n",
       "      <td>LOreal Paris Colour Riche Matte Lip Liner, Mat...</td>\n",
       "      <td>495.0</td>\n",
       "      <td>paris</td>\n",
       "      <td>https://i5.walmartimages.com/asr/baf97085-7231...</td>\n",
       "      <td>4.4</td>\n",
       "    </tr>\n",
       "    <tr>\n",
       "      <th>2873</th>\n",
       "      <td>Kokie Professional Lip Poudre Liquid Matte Liq...</td>\n",
       "      <td>7.0</td>\n",
       "      <td>kokie, cosmetics</td>\n",
       "      <td>https://i5.walmartimages.com/asr/31c99d9b-ea11...</td>\n",
       "      <td>3.4</td>\n",
       "    </tr>\n",
       "    <tr>\n",
       "      <th>3023</th>\n",
       "      <td>Be Matte Lipstick - Pink</td>\n",
       "      <td>2.0</td>\n",
       "      <td>city, color</td>\n",
       "      <td>https://i5.walmartimages.com/asr/4425a13e-085f...</td>\n",
       "      <td>3.0</td>\n",
       "    </tr>\n",
       "  </tbody>\n",
       "</table>\n",
       "</div>"
      ],
      "text/plain": [
       "                                                   Name  ReviewCount  \\\n",
       "3406  Kokie Professional Matte Lipstick, Firecracker...          0.0   \n",
       "546   Kokie Professional Matte Lipstick, Kiss Me, 0....          0.0   \n",
       "2406           L.A. Colors Matte Lipstick, Tender Matte          3.0   \n",
       "4050  Kokie Professional Lip Poudre Liquid Matte Liq...          7.0   \n",
       "4084         e.l.f. Mad for Matte 4 Piece Lip Color Set          0.0   \n",
       "1559  LOreal Paris Colour Riche Matte Lip Liner, Mat...        495.0   \n",
       "2873  Kokie Professional Lip Poudre Liquid Matte Liq...          7.0   \n",
       "3023                           Be Matte Lipstick - Pink          2.0   \n",
       "\n",
       "                 Brand                                           ImageURL  \\\n",
       "3406  kokie, cosmetics  https://i5.walmartimages.com/asr/8312221b-ed22...   \n",
       "546   kokie, cosmetics  https://i5.walmartimages.com/asr/27dd82a2-2b9c...   \n",
       "2406            colors  https://i5.walmartimages.com/asr/271264fb-e8c3...   \n",
       "4050  kokie, cosmetics  https://i5.walmartimages.com/asr/fdd7498c-319f...   \n",
       "4084         cosmetics  https://i5.walmartimages.com/asr/e2d30304-edc9...   \n",
       "1559             paris  https://i5.walmartimages.com/asr/baf97085-7231...   \n",
       "2873  kokie, cosmetics  https://i5.walmartimages.com/asr/31c99d9b-ea11...   \n",
       "3023       city, color  https://i5.walmartimages.com/asr/4425a13e-085f...   \n",
       "\n",
       "      Rating  \n",
       "3406     0.0  \n",
       "546      0.0  \n",
       "2406     3.7  \n",
       "4050     3.4  \n",
       "4084     0.0  \n",
       "1559     4.4  \n",
       "2873     3.4  \n",
       "3023     3.0  "
      ]
     },
     "execution_count": 70,
     "metadata": {},
     "output_type": "execute_result"
    }
   ],
   "source": [
    "# Example: Get content-based recommendations for a specific item\n",
    "item_name = 'Kokie Professional Matte Lipstick, Hot Berry, 0.14 fl oz'\n",
    "content_based_rec = content_based_recommendations(train_data, item_name, top_n=8)\n",
    "\n",
    "content_based_rec"
   ]
  },
  {
   "cell_type": "markdown",
   "id": "2c4117a0",
   "metadata": {},
   "source": [
    "# Collaborative Filtering (User Item Similarity)"
   ]
  },
  {
   "cell_type": "code",
   "execution_count": 71,
   "id": "561d1f39",
   "metadata": {},
   "outputs": [],
   "source": [
    "user_item_matrix = train_data.pivot_table(index='ID', columns='ProdID', values='Rating',aggfunc='mean').fillna(0).astype(int)"
   ]
  },
  {
   "cell_type": "code",
   "execution_count": 72,
   "id": "da389a20",
   "metadata": {},
   "outputs": [],
   "source": [
    "user_similarity = cosine_similarity(user_item_matrix)"
   ]
  },
  {
   "cell_type": "code",
   "execution_count": 73,
   "id": "ae4dcb37",
   "metadata": {},
   "outputs": [],
   "source": [
    "target_user_id = 4\n",
    "target_user_index = user_item_matrix.index.get_loc(target_user_id)"
   ]
  },
  {
   "cell_type": "code",
   "execution_count": 74,
   "id": "a50c696d",
   "metadata": {},
   "outputs": [],
   "source": [
    "user_similarities = user_similarity[target_user_index]\n",
    "\n",
    "similar_user_indices = user_similarities.argsort()[::-1][1:]"
   ]
  },
  {
   "cell_type": "code",
   "execution_count": 75,
   "id": "69deed31",
   "metadata": {},
   "outputs": [],
   "source": [
    "recommend_items = []\n",
    "\n",
    "for user_index in similar_user_indices:\n",
    "    rated_by_similar_user = user_item_matrix.iloc[user_index]\n",
    "    not_rated_by_target_user = (rated_by_similar_user==0) & (user_item_matrix.iloc[target_user_index]==0)\n",
    "    \n",
    "    recommend_items.extend(user_item_matrix.columns[not_rated_by_target_user][:10])\n",
    "\n",
    "recommended_items_details = train_data[train_data['ProdID'].isin(recommend_items)][['Name','ReviewCount','Brand','ImageURL','Rating']]"
   ]
  },
  {
   "cell_type": "code",
   "execution_count": 76,
   "id": "e3c54f65",
   "metadata": {},
   "outputs": [
    {
     "data": {
      "text/html": [
       "<div>\n",
       "<style scoped>\n",
       "    .dataframe tbody tr th:only-of-type {\n",
       "        vertical-align: middle;\n",
       "    }\n",
       "\n",
       "    .dataframe tbody tr th {\n",
       "        vertical-align: top;\n",
       "    }\n",
       "\n",
       "    .dataframe thead th {\n",
       "        text-align: right;\n",
       "    }\n",
       "</style>\n",
       "<table border=\"1\" class=\"dataframe\">\n",
       "  <thead>\n",
       "    <tr style=\"text-align: right;\">\n",
       "      <th></th>\n",
       "      <th>Name</th>\n",
       "      <th>ReviewCount</th>\n",
       "      <th>Brand</th>\n",
       "      <th>ImageURL</th>\n",
       "      <th>Rating</th>\n",
       "    </tr>\n",
       "  </thead>\n",
       "  <tbody>\n",
       "    <tr>\n",
       "      <th>15</th>\n",
       "      <td>Clairol Natural Instincts Demi-Permanent Hair ...</td>\n",
       "      <td>2935.0</td>\n",
       "      <td>clairol</td>\n",
       "      <td>https://i5.walmartimages.com/asr/00a6e54a-e431...</td>\n",
       "      <td>3.7</td>\n",
       "    </tr>\n",
       "    <tr>\n",
       "      <th>33</th>\n",
       "      <td>DenTek Kids Fun Flossers, Removes Food &amp; Plaqu...</td>\n",
       "      <td>3.0</td>\n",
       "      <td>dentek</td>\n",
       "      <td>https://i5.walmartimages.com/asr/de6e52eb-6e18...</td>\n",
       "      <td>0.0</td>\n",
       "    </tr>\n",
       "    <tr>\n",
       "      <th>61</th>\n",
       "      <td>COVERGIRL Exhibitionist Cream Lipstick, 395 Da...</td>\n",
       "      <td>713.0</td>\n",
       "      <td>covergirl</td>\n",
       "      <td>https://i5.walmartimages.com/asr/95076ec0-ffbd...</td>\n",
       "      <td>4.3</td>\n",
       "    </tr>\n",
       "    <tr>\n",
       "      <th>64</th>\n",
       "      <td>Neutrogena SkinClearing Oil-Free Liquid Founda...</td>\n",
       "      <td>741.0</td>\n",
       "      <td>neutrogena</td>\n",
       "      <td>https://i5.walmartimages.com/asr/fd4d78d8-310a...</td>\n",
       "      <td>4.2</td>\n",
       "    </tr>\n",
       "    <tr>\n",
       "      <th>69</th>\n",
       "      <td>Design Essentials Natural Coconut &amp; Monoi Curl...</td>\n",
       "      <td>1.0</td>\n",
       "      <td>design, essentials</td>\n",
       "      <td>https://i5.walmartimages.com/asr/ff2dba1d-0c02...</td>\n",
       "      <td>5.0</td>\n",
       "    </tr>\n",
       "    <tr>\n",
       "      <th>78</th>\n",
       "      <td>Paul Sebastian Fine Cologne Spray, Cologne for...</td>\n",
       "      <td>28.0</td>\n",
       "      <td>paul, sebastian</td>\n",
       "      <td>https://i5.walmartimages.com/asr/03d08a07-18d7...</td>\n",
       "      <td>4.8</td>\n",
       "    </tr>\n",
       "    <tr>\n",
       "      <th>85</th>\n",
       "      <td>BioAstin Hawaiian Astaxanthin, Vegan, 12mg, 75 Ct</td>\n",
       "      <td>3.0</td>\n",
       "      <td>bioastin</td>\n",
       "      <td>https://i5.walmartimages.com/asr/6da9e238-b19e...</td>\n",
       "      <td>5.0</td>\n",
       "    </tr>\n",
       "    <tr>\n",
       "      <th>92</th>\n",
       "      <td>Bytewise Organic Moringa Leaf Powder, 12 Oz</td>\n",
       "      <td>0.0</td>\n",
       "      <td>bytewise</td>\n",
       "      <td>https://i5.walmartimages.com/asr/076f2b3f-fdc3...</td>\n",
       "      <td>0.0</td>\n",
       "    </tr>\n",
       "    <tr>\n",
       "      <th>94</th>\n",
       "      <td>Ag Hair Cosmetics Ultradynamics Extra-Firm Fin...</td>\n",
       "      <td>0.0</td>\n",
       "      <td>ag, hair</td>\n",
       "      <td>https://i5.walmartimages.com/asr/5d217d98-a385...</td>\n",
       "      <td>0.0</td>\n",
       "    </tr>\n",
       "    <tr>\n",
       "      <th>108</th>\n",
       "      <td>OPI Nail Dipping Powder Perfection Combo - Liq...</td>\n",
       "      <td>1.0</td>\n",
       "      <td>opi</td>\n",
       "      <td>https://i5.walmartimages.com/asr/ef1607ee-5bdb...</td>\n",
       "      <td>3.0</td>\n",
       "    </tr>\n",
       "  </tbody>\n",
       "</table>\n",
       "</div>"
      ],
      "text/plain": [
       "                                                  Name  ReviewCount  \\\n",
       "15   Clairol Natural Instincts Demi-Permanent Hair ...       2935.0   \n",
       "33   DenTek Kids Fun Flossers, Removes Food & Plaqu...          3.0   \n",
       "61   COVERGIRL Exhibitionist Cream Lipstick, 395 Da...        713.0   \n",
       "64   Neutrogena SkinClearing Oil-Free Liquid Founda...        741.0   \n",
       "69   Design Essentials Natural Coconut & Monoi Curl...          1.0   \n",
       "78   Paul Sebastian Fine Cologne Spray, Cologne for...         28.0   \n",
       "85   BioAstin Hawaiian Astaxanthin, Vegan, 12mg, 75 Ct          3.0   \n",
       "92         Bytewise Organic Moringa Leaf Powder, 12 Oz          0.0   \n",
       "94   Ag Hair Cosmetics Ultradynamics Extra-Firm Fin...          0.0   \n",
       "108  OPI Nail Dipping Powder Perfection Combo - Liq...          1.0   \n",
       "\n",
       "                  Brand                                           ImageURL  \\\n",
       "15              clairol  https://i5.walmartimages.com/asr/00a6e54a-e431...   \n",
       "33               dentek  https://i5.walmartimages.com/asr/de6e52eb-6e18...   \n",
       "61            covergirl  https://i5.walmartimages.com/asr/95076ec0-ffbd...   \n",
       "64           neutrogena  https://i5.walmartimages.com/asr/fd4d78d8-310a...   \n",
       "69   design, essentials  https://i5.walmartimages.com/asr/ff2dba1d-0c02...   \n",
       "78      paul, sebastian  https://i5.walmartimages.com/asr/03d08a07-18d7...   \n",
       "85             bioastin  https://i5.walmartimages.com/asr/6da9e238-b19e...   \n",
       "92             bytewise  https://i5.walmartimages.com/asr/076f2b3f-fdc3...   \n",
       "94             ag, hair  https://i5.walmartimages.com/asr/5d217d98-a385...   \n",
       "108                 opi  https://i5.walmartimages.com/asr/ef1607ee-5bdb...   \n",
       "\n",
       "     Rating  \n",
       "15      3.7  \n",
       "33      0.0  \n",
       "61      4.3  \n",
       "64      4.2  \n",
       "69      5.0  \n",
       "78      4.8  \n",
       "85      5.0  \n",
       "92      0.0  \n",
       "94      0.0  \n",
       "108     3.0  "
      ]
     },
     "execution_count": 76,
     "metadata": {},
     "output_type": "execute_result"
    }
   ],
   "source": [
    "recommended_items_details.head(10)"
   ]
  },
  {
   "cell_type": "markdown",
   "id": "b315744a",
   "metadata": {},
   "source": [
    "# Function That Recommend Items"
   ]
  },
  {
   "cell_type": "code",
   "execution_count": 77,
   "id": "9867d4e0",
   "metadata": {},
   "outputs": [
    {
     "name": "stdout",
     "output_type": "stream",
     "text": [
      "Top 5 recommendations for User 4:\n"
     ]
    },
    {
     "data": {
      "text/html": [
       "<div>\n",
       "<style scoped>\n",
       "    .dataframe tbody tr th:only-of-type {\n",
       "        vertical-align: middle;\n",
       "    }\n",
       "\n",
       "    .dataframe tbody tr th {\n",
       "        vertical-align: top;\n",
       "    }\n",
       "\n",
       "    .dataframe thead th {\n",
       "        text-align: right;\n",
       "    }\n",
       "</style>\n",
       "<table border=\"1\" class=\"dataframe\">\n",
       "  <thead>\n",
       "    <tr style=\"text-align: right;\">\n",
       "      <th></th>\n",
       "      <th>Name</th>\n",
       "      <th>ReviewCount</th>\n",
       "      <th>Brand</th>\n",
       "      <th>ImageURL</th>\n",
       "      <th>Rating</th>\n",
       "    </tr>\n",
       "  </thead>\n",
       "  <tbody>\n",
       "    <tr>\n",
       "      <th>61</th>\n",
       "      <td>COVERGIRL Exhibitionist Cream Lipstick, 395 Da...</td>\n",
       "      <td>713.0</td>\n",
       "      <td>covergirl</td>\n",
       "      <td>https://i5.walmartimages.com/asr/95076ec0-ffbd...</td>\n",
       "      <td>4.3</td>\n",
       "    </tr>\n",
       "    <tr>\n",
       "      <th>85</th>\n",
       "      <td>BioAstin Hawaiian Astaxanthin, Vegan, 12mg, 75 Ct</td>\n",
       "      <td>3.0</td>\n",
       "      <td>bioastin</td>\n",
       "      <td>https://i5.walmartimages.com/asr/6da9e238-b19e...</td>\n",
       "      <td>5.0</td>\n",
       "    </tr>\n",
       "    <tr>\n",
       "      <th>86</th>\n",
       "      <td>LOreal Paris Feria Multi-Faceted Shimmering Pe...</td>\n",
       "      <td>2144.0</td>\n",
       "      <td>paris</td>\n",
       "      <td>https://i5.walmartimages.com/asr/c229026a-2b75...</td>\n",
       "      <td>3.1</td>\n",
       "    </tr>\n",
       "    <tr>\n",
       "      <th>108</th>\n",
       "      <td>OPI Nail Dipping Powder Perfection Combo - Liq...</td>\n",
       "      <td>1.0</td>\n",
       "      <td>opi</td>\n",
       "      <td>https://i5.walmartimages.com/asr/ef1607ee-5bdb...</td>\n",
       "      <td>3.0</td>\n",
       "    </tr>\n",
       "    <tr>\n",
       "      <th>144</th>\n",
       "      <td>Covidien Curity Maternity Pad Heavy 4.33&amp;quot ...</td>\n",
       "      <td>0.0</td>\n",
       "      <td>covidien</td>\n",
       "      <td>https://i5.walmartimages.com/asr/e4e38217-ed43...</td>\n",
       "      <td>0.0</td>\n",
       "    </tr>\n",
       "    <tr>\n",
       "      <th>155</th>\n",
       "      <td>Crest 3D White Brilliance Mouthwash, Alcohol F...</td>\n",
       "      <td>63.0</td>\n",
       "      <td>crest</td>\n",
       "      <td>https://i5.walmartimages.com/asr/1fcc5525-9ae3...</td>\n",
       "      <td>0.0</td>\n",
       "    </tr>\n",
       "    <tr>\n",
       "      <th>174</th>\n",
       "      <td>COVERGIRL Outlast All-Day Moisturizing Lip Col...</td>\n",
       "      <td>36.0</td>\n",
       "      <td>covergirl</td>\n",
       "      <td>https://i5.walmartimages.com/asr/4479896f-c6c4...</td>\n",
       "      <td>0.0</td>\n",
       "    </tr>\n",
       "    <tr>\n",
       "      <th>193</th>\n",
       "      <td>Revlon ColorStay Skinny Liquid Liner, 304 Gree...</td>\n",
       "      <td>70.0</td>\n",
       "      <td>revlon</td>\n",
       "      <td>https://i5.walmartimages.com/asr/aa3b20a6-3d6d...</td>\n",
       "      <td>4.5</td>\n",
       "    </tr>\n",
       "    <tr>\n",
       "      <th>212</th>\n",
       "      <td>Comvita Certified UMF 20+ Manuka Honey, Raw &amp; ...</td>\n",
       "      <td>0.0</td>\n",
       "      <td>comvita</td>\n",
       "      <td>https://i5.walmartimages.com/asr/3cdc1498-a2ac...</td>\n",
       "      <td>0.0</td>\n",
       "    </tr>\n",
       "    <tr>\n",
       "      <th>241</th>\n",
       "      <td>Ahava Mens Mineral Hand Cream, 3.4 Oz</td>\n",
       "      <td>0.0</td>\n",
       "      <td>ahava</td>\n",
       "      <td>https://i5.walmartimages.com/asr/f74e4bb7-47d3...</td>\n",
       "      <td>0.0</td>\n",
       "    </tr>\n",
       "  </tbody>\n",
       "</table>\n",
       "</div>"
      ],
      "text/plain": [
       "                                                  Name  ReviewCount  \\\n",
       "61   COVERGIRL Exhibitionist Cream Lipstick, 395 Da...        713.0   \n",
       "85   BioAstin Hawaiian Astaxanthin, Vegan, 12mg, 75 Ct          3.0   \n",
       "86   LOreal Paris Feria Multi-Faceted Shimmering Pe...       2144.0   \n",
       "108  OPI Nail Dipping Powder Perfection Combo - Liq...          1.0   \n",
       "144  Covidien Curity Maternity Pad Heavy 4.33&quot ...          0.0   \n",
       "155  Crest 3D White Brilliance Mouthwash, Alcohol F...         63.0   \n",
       "174  COVERGIRL Outlast All-Day Moisturizing Lip Col...         36.0   \n",
       "193  Revlon ColorStay Skinny Liquid Liner, 304 Gree...         70.0   \n",
       "212  Comvita Certified UMF 20+ Manuka Honey, Raw & ...          0.0   \n",
       "241              Ahava Mens Mineral Hand Cream, 3.4 Oz          0.0   \n",
       "\n",
       "         Brand                                           ImageURL  Rating  \n",
       "61   covergirl  https://i5.walmartimages.com/asr/95076ec0-ffbd...     4.3  \n",
       "85    bioastin  https://i5.walmartimages.com/asr/6da9e238-b19e...     5.0  \n",
       "86       paris  https://i5.walmartimages.com/asr/c229026a-2b75...     3.1  \n",
       "108        opi  https://i5.walmartimages.com/asr/ef1607ee-5bdb...     3.0  \n",
       "144   covidien  https://i5.walmartimages.com/asr/e4e38217-ed43...     0.0  \n",
       "155      crest  https://i5.walmartimages.com/asr/1fcc5525-9ae3...     0.0  \n",
       "174  covergirl  https://i5.walmartimages.com/asr/4479896f-c6c4...     0.0  \n",
       "193     revlon  https://i5.walmartimages.com/asr/aa3b20a6-3d6d...     4.5  \n",
       "212    comvita  https://i5.walmartimages.com/asr/3cdc1498-a2ac...     0.0  \n",
       "241      ahava  https://i5.walmartimages.com/asr/f74e4bb7-47d3...     0.0  "
      ]
     },
     "execution_count": 77,
     "metadata": {},
     "output_type": "execute_result"
    }
   ],
   "source": [
    "def collaborative_filtering_recommendations(train_data, target_user_id, top_n=10):\n",
    "    # Create the user-item matrix\n",
    "    user_item_matrix = train_data.pivot_table(index='ID', columns='ProdID', values='Rating', aggfunc='mean').fillna(0)\n",
    "\n",
    "    # Calculate the user similarity matrix using cosine similarity\n",
    "    user_similarity = cosine_similarity(user_item_matrix)\n",
    "\n",
    "    # Find the index of the target user in the matrix\n",
    "    target_user_index = user_item_matrix.index.get_loc(target_user_id)\n",
    "\n",
    "    # Get the similarity scores for the target user\n",
    "    user_similarities = user_similarity[target_user_index]\n",
    "\n",
    "    # Sort the users by similarity in descending order (excluding the target user)\n",
    "    similar_users_indices = user_similarities.argsort()[::-1][1:]\n",
    "\n",
    "    # Generate recommendations based on similar users\n",
    "    recommended_items = []\n",
    "\n",
    "    for user_index in similar_users_indices:\n",
    "        # Get items rated by the similar user but not by the target user\n",
    "        rated_by_similar_user = user_item_matrix.iloc[user_index]\n",
    "        not_rated_by_target_user = (rated_by_similar_user == 0) & (user_item_matrix.iloc[target_user_index] == 0)\n",
    "\n",
    "        # Extract the item IDs of recommended items\n",
    "        recommended_items.extend(user_item_matrix.columns[not_rated_by_target_user][:top_n])\n",
    "\n",
    "    # Get the details of recommended items\n",
    "    recommended_items_details = train_data[train_data['ProdID'].isin(recommended_items)][['Name', 'ReviewCount', 'Brand', 'ImageURL', 'Rating']]\n",
    "\n",
    "    return recommended_items_details.head(10)\n",
    "\n",
    "# Example usage\n",
    "target_user_id = 4\n",
    "top_n = 5\n",
    "collaborative_filtering_rec = collaborative_filtering_recommendations(train_data, target_user_id)\n",
    "print(f\"Top {top_n} recommendations for User {target_user_id}:\")\n",
    "collaborative_filtering_rec"
   ]
  },
  {
   "cell_type": "markdown",
   "id": "2839d618",
   "metadata": {},
   "source": [
    "# Hybrid Recommendations"
   ]
  },
  {
   "cell_type": "code",
   "execution_count": 78,
   "id": "77dadbb3",
   "metadata": {},
   "outputs": [],
   "source": [
    "# Hybrid Recommendations (Combine Content-Based and Collaborative Filtering)\n",
    "def hybrid_recommendations(train_data,target_user_id, item_name, top_n=10):\n",
    "    # Get content-based recommendations\n",
    "    content_based_rec = content_based_recommendations(train_data,item_name, top_n)\n",
    "\n",
    "    # Get collaborative filtering recommendations\n",
    "    collaborative_filtering_rec = collaborative_filtering_recommendations(train_data,target_user_id, top_n)\n",
    "    \n",
    "    # Merge and deduplicate the recommendations\n",
    "    hybrid_rec = pd.concat([content_based_rec, collaborative_filtering_rec]).drop_duplicates()\n",
    "    \n",
    "    return hybrid_rec.head(10)"
   ]
  },
  {
   "cell_type": "code",
   "execution_count": 79,
   "id": "5320ae95",
   "metadata": {},
   "outputs": [
    {
     "name": "stdout",
     "output_type": "stream",
     "text": [
      "Top 10 Hybrid Recommendations for User 4 and Item 'OPI Nail Lacquer Polish .5oz/15mL - This Gown Needs A Crown NL U11':\n"
     ]
    },
    {
     "data": {
      "text/html": [
       "<div>\n",
       "<style scoped>\n",
       "    .dataframe tbody tr th:only-of-type {\n",
       "        vertical-align: middle;\n",
       "    }\n",
       "\n",
       "    .dataframe tbody tr th {\n",
       "        vertical-align: top;\n",
       "    }\n",
       "\n",
       "    .dataframe thead th {\n",
       "        text-align: right;\n",
       "    }\n",
       "</style>\n",
       "<table border=\"1\" class=\"dataframe\">\n",
       "  <thead>\n",
       "    <tr style=\"text-align: right;\">\n",
       "      <th></th>\n",
       "      <th>Name</th>\n",
       "      <th>ReviewCount</th>\n",
       "      <th>Brand</th>\n",
       "      <th>ImageURL</th>\n",
       "      <th>Rating</th>\n",
       "    </tr>\n",
       "  </thead>\n",
       "  <tbody>\n",
       "    <tr>\n",
       "      <th>156</th>\n",
       "      <td>OPI Nail Lacquer Polish .5oz/15mL - This Gown ...</td>\n",
       "      <td>0.0</td>\n",
       "      <td>opi</td>\n",
       "      <td>https://i5.walmartimages.com/asr/71caed3f-5f83...</td>\n",
       "      <td>0.0</td>\n",
       "    </tr>\n",
       "    <tr>\n",
       "      <th>184</th>\n",
       "      <td>OPI Nail Gel Polish GelColor .5oz/15mL 3 CT Co...</td>\n",
       "      <td>0.0</td>\n",
       "      <td>opi</td>\n",
       "      <td>https://i5.walmartimages.com/asr/2d6f5147-53a8...</td>\n",
       "      <td>0.0</td>\n",
       "    </tr>\n",
       "    <tr>\n",
       "      <th>205</th>\n",
       "      <td>OPI Nail Lacquer - Dont Bossa Nova Me Around -...</td>\n",
       "      <td>0.0</td>\n",
       "      <td>opi</td>\n",
       "      <td>https://i5.walmartimages.com/asr/fd1195d2-8d8d...</td>\n",
       "      <td>0.0</td>\n",
       "    </tr>\n",
       "    <tr>\n",
       "      <th>237</th>\n",
       "      <td>OPI Infinite Shine 2 Polish - ISL P33 - Alpaca...</td>\n",
       "      <td>5.0</td>\n",
       "      <td>opi</td>\n",
       "      <td>https://i5.walmartimages.com/asr/7426eb5c-1690...</td>\n",
       "      <td>0.0</td>\n",
       "    </tr>\n",
       "    <tr>\n",
       "      <th>325</th>\n",
       "      <td>OPI Gel Polish Fall 2019 Scotland Collection G...</td>\n",
       "      <td>1.0</td>\n",
       "      <td>opi</td>\n",
       "      <td>https://i5.walmartimages.com/asr/79bbbd9f-9a89...</td>\n",
       "      <td>0.0</td>\n",
       "    </tr>\n",
       "    <tr>\n",
       "      <th>375</th>\n",
       "      <td>OPI Nail Gel Polish GelColor .5oz/15mL 3 CT Co...</td>\n",
       "      <td>1.0</td>\n",
       "      <td>opi</td>\n",
       "      <td>https://i5.walmartimages.com/asr/744e869c-3500...</td>\n",
       "      <td>5.0</td>\n",
       "    </tr>\n",
       "    <tr>\n",
       "      <th>402</th>\n",
       "      <td>OPI Nail Polish, Strawberry Margarita, 0.5 Fl Oz</td>\n",
       "      <td>57.0</td>\n",
       "      <td>opi</td>\n",
       "      <td>https://i5.walmartimages.com/asr/b95676e5-96ab...</td>\n",
       "      <td>4.4</td>\n",
       "    </tr>\n",
       "    <tr>\n",
       "      <th>706</th>\n",
       "      <td>OPI Nail Gel Polish GelColor .5oz/15mL 3 CT Co...</td>\n",
       "      <td>1.0</td>\n",
       "      <td>opi</td>\n",
       "      <td>https://i5.walmartimages.com/asr/c7ba4815-52f7...</td>\n",
       "      <td>5.0</td>\n",
       "    </tr>\n",
       "    <tr>\n",
       "      <th>886</th>\n",
       "      <td>OPI- Nail Lacquer-GelColor - &amp;quotLiv&amp;quotin t...</td>\n",
       "      <td>0.0</td>\n",
       "      <td>opi</td>\n",
       "      <td>https://i5.walmartimages.com/asr/98b4194c-e026...</td>\n",
       "      <td>0.0</td>\n",
       "    </tr>\n",
       "    <tr>\n",
       "      <th>1042</th>\n",
       "      <td>OPI GelColor Gel Nail Polish, Dulce De Leche, ...</td>\n",
       "      <td>1.0</td>\n",
       "      <td>opi</td>\n",
       "      <td>https://i5.walmartimages.com/asr/c1b2c370-b2d2...</td>\n",
       "      <td>0.0</td>\n",
       "    </tr>\n",
       "  </tbody>\n",
       "</table>\n",
       "</div>"
      ],
      "text/plain": [
       "                                                   Name  ReviewCount Brand  \\\n",
       "156   OPI Nail Lacquer Polish .5oz/15mL - This Gown ...          0.0   opi   \n",
       "184   OPI Nail Gel Polish GelColor .5oz/15mL 3 CT Co...          0.0   opi   \n",
       "205   OPI Nail Lacquer - Dont Bossa Nova Me Around -...          0.0   opi   \n",
       "237   OPI Infinite Shine 2 Polish - ISL P33 - Alpaca...          5.0   opi   \n",
       "325   OPI Gel Polish Fall 2019 Scotland Collection G...          1.0   opi   \n",
       "375   OPI Nail Gel Polish GelColor .5oz/15mL 3 CT Co...          1.0   opi   \n",
       "402    OPI Nail Polish, Strawberry Margarita, 0.5 Fl Oz         57.0   opi   \n",
       "706   OPI Nail Gel Polish GelColor .5oz/15mL 3 CT Co...          1.0   opi   \n",
       "886   OPI- Nail Lacquer-GelColor - &quotLiv&quotin t...          0.0   opi   \n",
       "1042  OPI GelColor Gel Nail Polish, Dulce De Leche, ...          1.0   opi   \n",
       "\n",
       "                                               ImageURL  Rating  \n",
       "156   https://i5.walmartimages.com/asr/71caed3f-5f83...     0.0  \n",
       "184   https://i5.walmartimages.com/asr/2d6f5147-53a8...     0.0  \n",
       "205   https://i5.walmartimages.com/asr/fd1195d2-8d8d...     0.0  \n",
       "237   https://i5.walmartimages.com/asr/7426eb5c-1690...     0.0  \n",
       "325   https://i5.walmartimages.com/asr/79bbbd9f-9a89...     0.0  \n",
       "375   https://i5.walmartimages.com/asr/744e869c-3500...     5.0  \n",
       "402   https://i5.walmartimages.com/asr/b95676e5-96ab...     4.4  \n",
       "706   https://i5.walmartimages.com/asr/c7ba4815-52f7...     5.0  \n",
       "886   https://i5.walmartimages.com/asr/98b4194c-e026...     0.0  \n",
       "1042  https://i5.walmartimages.com/asr/c1b2c370-b2d2...     0.0  "
      ]
     },
     "execution_count": 79,
     "metadata": {},
     "output_type": "execute_result"
    }
   ],
   "source": [
    "# Example usage: Get hybrid recommendations for a specific user and item\n",
    "target_user_id = 4 # Change this to the user_id you want recommendations for\n",
    "item_name = \"OPI Nail Lacquer Polish .5oz/15mL - This Gown Needs A Crown NL U11\"  # Change this to the item name\n",
    "hybrid_rec = hybrid_recommendations(train_data,target_user_id, item_name, top_n=10)\n",
    "\n",
    "print(f\"Top 10 Hybrid Recommendations for User {target_user_id} and Item '{item_name}':\")\n",
    "hybrid_rec"
   ]
  },
  {
   "cell_type": "code",
   "execution_count": 80,
   "id": "c56891bd",
   "metadata": {},
   "outputs": [
    {
     "name": "stdout",
     "output_type": "stream",
     "text": [
      "Top 10 Hybrid Recommendations for User 10 and Item 'Black Radiance Perfect Tone Matte Lip Crème, Succulent Plum':\n"
     ]
    },
    {
     "data": {
      "text/html": [
       "<div>\n",
       "<style scoped>\n",
       "    .dataframe tbody tr th:only-of-type {\n",
       "        vertical-align: middle;\n",
       "    }\n",
       "\n",
       "    .dataframe tbody tr th {\n",
       "        vertical-align: top;\n",
       "    }\n",
       "\n",
       "    .dataframe thead th {\n",
       "        text-align: right;\n",
       "    }\n",
       "</style>\n",
       "<table border=\"1\" class=\"dataframe\">\n",
       "  <thead>\n",
       "    <tr style=\"text-align: right;\">\n",
       "      <th></th>\n",
       "      <th>Name</th>\n",
       "      <th>ReviewCount</th>\n",
       "      <th>Brand</th>\n",
       "      <th>ImageURL</th>\n",
       "      <th>Rating</th>\n",
       "    </tr>\n",
       "  </thead>\n",
       "  <tbody>\n",
       "    <tr>\n",
       "      <th>896</th>\n",
       "      <td>Black Radiance Perfect Tone Lip Color, Vintage...</td>\n",
       "      <td>78.0</td>\n",
       "      <td>black, radiance</td>\n",
       "      <td>https://i5.walmartimages.com/asr/485f26b4-a19a...</td>\n",
       "      <td>4.7</td>\n",
       "    </tr>\n",
       "    <tr>\n",
       "      <th>2496</th>\n",
       "      <td>Black Radiance Perfect Tone Lip Color, Hollywo...</td>\n",
       "      <td>18.0</td>\n",
       "      <td>black, radiance</td>\n",
       "      <td>https://i5.walmartimages.com/asr/fe3da48f-5142...</td>\n",
       "      <td>4.3</td>\n",
       "    </tr>\n",
       "    <tr>\n",
       "      <th>3</th>\n",
       "      <td>Kokie Professional Matte Lipstick, Hot Berry, ...</td>\n",
       "      <td>0.0</td>\n",
       "      <td>kokie, cosmetics</td>\n",
       "      <td>https://i5.walmartimages.com/asr/25b4b467-bc61...</td>\n",
       "      <td>0.0</td>\n",
       "    </tr>\n",
       "    <tr>\n",
       "      <th>3406</th>\n",
       "      <td>Kokie Professional Matte Lipstick, Firecracker...</td>\n",
       "      <td>0.0</td>\n",
       "      <td>kokie, cosmetics</td>\n",
       "      <td>https://i5.walmartimages.com/asr/8312221b-ed22...</td>\n",
       "      <td>0.0</td>\n",
       "    </tr>\n",
       "    <tr>\n",
       "      <th>2406</th>\n",
       "      <td>L.A. Colors Matte Lipstick, Tender Matte</td>\n",
       "      <td>3.0</td>\n",
       "      <td>colors</td>\n",
       "      <td>https://i5.walmartimages.com/asr/271264fb-e8c3...</td>\n",
       "      <td>3.7</td>\n",
       "    </tr>\n",
       "    <tr>\n",
       "      <th>4050</th>\n",
       "      <td>Kokie Professional Lip Poudre Liquid Matte Liq...</td>\n",
       "      <td>7.0</td>\n",
       "      <td>kokie, cosmetics</td>\n",
       "      <td>https://i5.walmartimages.com/asr/fdd7498c-319f...</td>\n",
       "      <td>3.4</td>\n",
       "    </tr>\n",
       "    <tr>\n",
       "      <th>2873</th>\n",
       "      <td>Kokie Professional Lip Poudre Liquid Matte Liq...</td>\n",
       "      <td>7.0</td>\n",
       "      <td>kokie, cosmetics</td>\n",
       "      <td>https://i5.walmartimages.com/asr/31c99d9b-ea11...</td>\n",
       "      <td>3.4</td>\n",
       "    </tr>\n",
       "    <tr>\n",
       "      <th>4872</th>\n",
       "      <td>L.A. Colors Matte Lipstick, Torrid Matte</td>\n",
       "      <td>8.0</td>\n",
       "      <td>colors</td>\n",
       "      <td>https://i5.walmartimages.com/asr/62d6d9fa-eee1...</td>\n",
       "      <td>4.8</td>\n",
       "    </tr>\n",
       "    <tr>\n",
       "      <th>1300</th>\n",
       "      <td>e.l.f. Liquid Matte Lipstick, Tea Rose</td>\n",
       "      <td>476.0</td>\n",
       "      <td>cosmetics</td>\n",
       "      <td>https://i5.walmartimages.com/asr/58220de4-3875...</td>\n",
       "      <td>4.1</td>\n",
       "    </tr>\n",
       "    <tr>\n",
       "      <th>420</th>\n",
       "      <td>Black Opal Color Splurge Sassy Luxe Matte Lips...</td>\n",
       "      <td>0.0</td>\n",
       "      <td>black, opal</td>\n",
       "      <td>https://i5.walmartimages.com/asr/a991241b-e4ad...</td>\n",
       "      <td>0.0</td>\n",
       "    </tr>\n",
       "  </tbody>\n",
       "</table>\n",
       "</div>"
      ],
      "text/plain": [
       "                                                   Name  ReviewCount  \\\n",
       "896   Black Radiance Perfect Tone Lip Color, Vintage...         78.0   \n",
       "2496  Black Radiance Perfect Tone Lip Color, Hollywo...         18.0   \n",
       "3     Kokie Professional Matte Lipstick, Hot Berry, ...          0.0   \n",
       "3406  Kokie Professional Matte Lipstick, Firecracker...          0.0   \n",
       "2406           L.A. Colors Matte Lipstick, Tender Matte          3.0   \n",
       "4050  Kokie Professional Lip Poudre Liquid Matte Liq...          7.0   \n",
       "2873  Kokie Professional Lip Poudre Liquid Matte Liq...          7.0   \n",
       "4872           L.A. Colors Matte Lipstick, Torrid Matte          8.0   \n",
       "1300             e.l.f. Liquid Matte Lipstick, Tea Rose        476.0   \n",
       "420   Black Opal Color Splurge Sassy Luxe Matte Lips...          0.0   \n",
       "\n",
       "                 Brand                                           ImageURL  \\\n",
       "896    black, radiance  https://i5.walmartimages.com/asr/485f26b4-a19a...   \n",
       "2496   black, radiance  https://i5.walmartimages.com/asr/fe3da48f-5142...   \n",
       "3     kokie, cosmetics  https://i5.walmartimages.com/asr/25b4b467-bc61...   \n",
       "3406  kokie, cosmetics  https://i5.walmartimages.com/asr/8312221b-ed22...   \n",
       "2406            colors  https://i5.walmartimages.com/asr/271264fb-e8c3...   \n",
       "4050  kokie, cosmetics  https://i5.walmartimages.com/asr/fdd7498c-319f...   \n",
       "2873  kokie, cosmetics  https://i5.walmartimages.com/asr/31c99d9b-ea11...   \n",
       "4872            colors  https://i5.walmartimages.com/asr/62d6d9fa-eee1...   \n",
       "1300         cosmetics  https://i5.walmartimages.com/asr/58220de4-3875...   \n",
       "420        black, opal  https://i5.walmartimages.com/asr/a991241b-e4ad...   \n",
       "\n",
       "      Rating  \n",
       "896      4.7  \n",
       "2496     4.3  \n",
       "3        0.0  \n",
       "3406     0.0  \n",
       "2406     3.7  \n",
       "4050     3.4  \n",
       "2873     3.4  \n",
       "4872     4.8  \n",
       "1300     4.1  \n",
       "420      0.0  "
      ]
     },
     "execution_count": 80,
     "metadata": {},
     "output_type": "execute_result"
    }
   ],
   "source": [
    "# Example usage: Get hybrid recommendations for a specific user and item\n",
    "target_user_id = 10 # Change this to the user_id you want recommendations for\n",
    "item_name = 'Black Radiance Perfect Tone Matte Lip Crème, Succulent Plum'\n",
    "\n",
    "hybrid_rec = hybrid_recommendations(train_data,target_user_id, item_name, top_n=10)\n",
    "\n",
    "print(f\"Top 10 Hybrid Recommendations for User {target_user_id} and Item '{item_name}':\")\n",
    "hybrid_rec"
   ]
  }
 ],
 "metadata": {
  "kernelspec": {
   "display_name": "myvenv",
   "language": "python",
   "name": "python3"
  },
  "language_info": {
   "codemirror_mode": {
    "name": "ipython",
    "version": 3
   },
   "file_extension": ".py",
   "mimetype": "text/x-python",
   "name": "python",
   "nbconvert_exporter": "python",
   "pygments_lexer": "ipython3",
   "version": "3.9.13"
  }
 },
 "nbformat": 4,
 "nbformat_minor": 5
}
